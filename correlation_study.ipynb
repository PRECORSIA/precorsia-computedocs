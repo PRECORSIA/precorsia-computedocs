{
 "cells": [
  {
   "cell_type": "code",
   "execution_count": 1,
   "metadata": {},
   "outputs": [],
   "source": [
    "# Importing GEE dependencies\n",
    "from helpers.geeApi import PrecorsiaGee\n",
    "\n",
    "# Importing image processing tools\n",
    "from helpers.imageCorrelator import ImageCorrelator\n",
    "from helpers.imageProcessor import ImageProcessor"
   ]
  },
  {
   "cell_type": "code",
   "execution_count": 2,
   "metadata": {},
   "outputs": [],
   "source": [
    "configuration = {\n",
    "    \"startDate\": \"2016-01-01\",\n",
    "    \"days\": 2880,\n",
    "    \"geolocation\": [-57.414653412450235, -13.99834272152354],\n",
    "    \"image_scale\": 10000,\n",
    "    \"round_factor\": 9,\n",
    "    \"reference_dataset\": 'GOOGLE/DYNAMICWORLD/V1',\n",
    "    \"comparable_dataset\": 'UCSB-CHG/CHIRPS/DAILY',\n",
    "    \"reference_band_name\": 'grass',\n",
    "    \"reference_band_range\": [0, 1],\n",
    "    \"reference_band_unit\": \"m³\",\n",
    "    \"comparable_band_name\": 'precipitation',\n",
    "    \"comparable_band_range\": [0, 102],\n",
    "    \"comparable_band_unit\": \"mm\",\n",
    "    \"gee\": PrecorsiaGee,\n",
    "    \"imageCorrelator\": ImageCorrelator,\n",
    "    \"imageProcessor\": ImageProcessor\n",
    "}"
   ]
  },
  {
   "cell_type": "code",
   "execution_count": 3,
   "metadata": {},
   "outputs": [],
   "source": [
    "from helpers.precorsiaFilter import PrecorsiaFilter"
   ]
  },
  {
   "cell_type": "code",
   "execution_count": 4,
   "metadata": {},
   "outputs": [],
   "source": [
    "PrecorsiaFilter.initialize(PrecorsiaGee)"
   ]
  },
  {
   "cell_type": "code",
   "execution_count": 5,
   "metadata": {},
   "outputs": [
    {
     "name": "stdout",
     "output_type": "stream",
     "text": [
      "GOOGLE/DYNAMICWORLD/V1 Progress: 100.00% | Estimated time: 0.00s          \n",
      "\n",
      "UCSB-CHG/CHIRPS/DAILY Progress: 100.00% | Estimated time: 0.00s          \n",
      "\n",
      "Best shift: 33, Best correlation: 0.17612784839359255\n"
     ]
    }
   ],
   "source": [
    "procorsiaGO = PrecorsiaFilter(configuration)\n",
    "procorsiaGO.execute()"
   ]
  }
 ],
 "metadata": {
  "kernelspec": {
   "display_name": "Python 3",
   "language": "python",
   "name": "python3"
  },
  "language_info": {
   "codemirror_mode": {
    "name": "ipython",
    "version": 3
   },
   "file_extension": ".py",
   "mimetype": "text/x-python",
   "name": "python",
   "nbconvert_exporter": "python",
   "pygments_lexer": "ipython3",
   "version": "3.10.2"
  }
 },
 "nbformat": 4,
 "nbformat_minor": 2
}
