{
 "cells": [
  {
   "cell_type": "code",
   "execution_count": 1,
   "metadata": {},
   "outputs": [],
   "source": [
    "# Importing GEE dependencies\n",
    "from helpers.geeApi import PrecorsiaGee\n",
    "\n",
    "# Importing image processing tools\n",
    "from helpers.imageCorrelator import ImageCorrelator\n",
    "from helpers.imageProcessor import ImageProcessor"
   ]
  },
  {
   "cell_type": "code",
   "execution_count": 2,
   "metadata": {},
   "outputs": [],
   "source": [
    "climates_and_coordinates = {\n",
    "    \"Temperate oceanic forest\": [[47.954738, -2.762601], [48.317718, -2.694841], [48.858890, -1.449639], [51.608677, -2.009771], [53.091125, -1.894253]],\n",
    "    \"Temperate mountain system\": [[41.123344, 119.956312], [40.695594, 110.652509], [41.284787, 107.107065], [39.220660, 106.444341], [38.087684, 101.639090]],\n",
    "    \"Temperate continental forest\": [[57.132998, 27.601458], [57.409886, 25.022115], [58.059620, 36.945045], [46.135296, -66.694371], [41.008522, -82.415779]],\n",
    "    \"Temperate steppe\": [[-47.247776, -70.183285], [-47.193419, -69.363101], [-48.021398, -67.106206], [-51.452910, -70.122979], [-48.813299, -68.825360]],\n",
    "    \"Temperate desert\": [[42.157947, 58.706004], [42.175453, 58.896608], [42.206991, 59.125658], [42.142956, 68.687625], [39.958199, 64.201626]],\n",
    "    \"Subtropical dry forest\": [[37.798459, -5.802187], [37.740513, -7.560240], [38.692956, -7.616121], [34.410711, -5.478597], [38.288224, -3.223548]],\n",
    "    \"Subtropical mountain system\": [[35.300666, 47.461092], [34.754532, 49.013175], [36.797337, 43.331188], [39.558864, 36.965869], [39.598536, 34.248609]],\n",
    "    \"Subtropical humid forest\": [[26.397975, 116.967469], [26.514239, 116.365344], [26.591690, 116.139577], [26.657753, 115.879782], [25.881139, 114.082260]],\n",
    "    \"Subtropical steppe\": [[-33.568694, 145.247652], [-34.539059, 143.044601], [-27.731402, 147.585847], [-34.085744, 139.236784], [-40.160516, -64.754256]],\n",
    "    \"Tropical moist deciduous forest\": [[-18.440120, -51.045576], [-15.874720, -49.829816], [-17.506318, -51.546723], [-17.245446, -50.452744], [-12.470523, 34.156689]],\n",
    "    \"Tropical shrubland\": [[-7.529085, 35.279892], [-7.402411, 35.245800], [-2.007633, 34.346049], [-1.928110, 34.867832], [-18.088198, 141.933747]],\n",
    "    \"Tropical dry forest\": [[-12.018183, 142.431073], [-22.806986, 31.329437], [-25.387838, 26.275969], [-25.410078, 25.998581], [-20.049849, -62.065430]],\n",
    "    \"Tropical mountain system\": [[29.158355, 100.192289], [30.672878, 97.127630], [31.807552, 98.657085], [32.193739, 95.276979], [33.075883, 96.683705]],\n",
    "    \"Tropical rainforest\": [[-1.480648, -55.139496], [-1.544551, -55.304076], [-1.557230, -55.507508], [-2.494312, -57.881468], [-1.977114, -60.148923]],\n",
    "}"
   ]
  },
  {
   "cell_type": "code",
   "execution_count": 3,
   "metadata": {},
   "outputs": [],
   "source": [
    "datasets = {\n",
    "    \"UCSB-CHG/CHIRPS/DAILY\": {\n",
    "        \"band_name\": \"precipitation\",\n",
    "        \"range\": [0, 102],\n",
    "        \"unit\": \"mm\",\n",
    "        \"startDate\": \"2015-06-23\",\n",
    "        \"days\": 3090\n",
    "    },\n",
    "    \"MODIS/061/MOD11A1\": {\n",
    "        \"band_name\": \"LST_Day_1km\",\n",
    "        \"range\": [7500, 65535],\n",
    "        \"unit\": \"K\",\n",
    "        \"start_date\": \"2015-06-23\",\n",
    "        \"days\": 3090\n",
    "    },\n",
    "    \"COPERNICUS/S2_CLOUD_PROBABILITY\": {\n",
    "        \"band_name\": \"probability\",\n",
    "        \"range\": [0, 100],\n",
    "        \"unit\": \"%\",\n",
    "        \"start_date\": \"2015-06-23\",\n",
    "        \"days\": 3090\n",
    "    }\n",
    "}"
   ]
  },
  {
   "cell_type": "code",
   "execution_count": 4,
   "metadata": {},
   "outputs": [],
   "source": [
    "configurations = {}\n",
    "\n",
    "reference_config = {\n",
    "    \"image_scale\": 5120,\n",
    "    \"round_factor\": 9,\n",
    "    \"reference_dataset\": 'GOOGLE/DYNAMICWORLD/V1',\n",
    "    \"reference_band_name\": 'grass',\n",
    "    \"reference_band_range\": [0, 1],\n",
    "    \"reference_band_unit\": \"m³\",\n",
    "    \"gee\": PrecorsiaGee,\n",
    "    \"imageCorrelator\": ImageCorrelator,\n",
    "    \"imageProcessor\": ImageProcessor\n",
    "}\n",
    "\n",
    "for climate, coordinates in climates_and_coordinates.items():\n",
    "    configurations[climate] = []\n",
    "    for coordinate in coordinates:\n",
    "        for dataset, dataset_info in datasets.items():\n",
    "            config = reference_config.copy()\n",
    "            config[\"climate\"] = climate\n",
    "            config[\"geolocation\"] = coordinate\n",
    "            config[\"comparable_dataset\"] = dataset\n",
    "            config[\"comparable_band_name\"] = dataset_info[\"band_name\"]\n",
    "            config[\"comparable_band_range\"] = dataset_info[\"range\"]\n",
    "            config[\"comparable_band_unit\"] = dataset_info[\"unit\"]\n",
    "            config[\"start_date\"] = dataset_info.get(\"start_date\", dataset_info.get(\"startDate\"))\n",
    "            config[\"days\"] = dataset_info[\"days\"]\n",
    "            configurations[climate].append(config)"
   ]
  },
  {
   "cell_type": "code",
   "execution_count": 5,
   "metadata": {},
   "outputs": [],
   "source": [
    "from helpers.precorsiaFilter import PrecorsiaFilter"
   ]
  },
  {
   "cell_type": "code",
   "execution_count": 6,
   "metadata": {},
   "outputs": [],
   "source": [
    "PrecorsiaFilter.initialize(PrecorsiaGee)"
   ]
  },
  {
   "cell_type": "code",
   "execution_count": 7,
   "metadata": {},
   "outputs": [
    {
     "name": "stdout",
     "output_type": "stream",
     "text": [
      "GOOGLE/DYNAMICWORLD/V1 Progress: 100.00% | Estimated time: 0.00s          \n",
      "\n",
      "UCSB-CHG/CHIRPS/DAILY Progress: 100.00% | Estimated time: 0.00s          \n",
      "\n"
     ]
    },
    {
     "name": "stderr",
     "output_type": "stream",
     "text": [
      "c:\\Users\\Diego AC\\AppData\\Local\\Programs\\Python\\Python310\\lib\\site-packages\\numpy\\lib\\function_base.py:2829: RuntimeWarning: invalid value encountered in true_divide\n",
      "  c /= stddev[:, None]\n",
      "c:\\Users\\Diego AC\\AppData\\Local\\Programs\\Python\\Python310\\lib\\site-packages\\numpy\\lib\\function_base.py:2830: RuntimeWarning: invalid value encountered in true_divide\n",
      "  c /= stddev[None, :]\n"
     ]
    },
    {
     "name": "stdout",
     "output_type": "stream",
     "text": [
      "Best shift: 0, Best correlation: -inf\n"
     ]
    }
   ],
   "source": [
    "for climate, config_list in configurations.items():\n",
    "    for config in config_list:\n",
    "        procorsiaGO = PrecorsiaFilter(config)\n",
    "        procorsiaGO.execute()"
   ]
  }
 ],
 "metadata": {
  "kernelspec": {
   "display_name": "Python 3",
   "language": "python",
   "name": "python3"
  },
  "language_info": {
   "codemirror_mode": {
    "name": "ipython",
    "version": 3
   },
   "file_extension": ".py",
   "mimetype": "text/x-python",
   "name": "python",
   "nbconvert_exporter": "python",
   "pygments_lexer": "ipython3",
   "version": "3.10.2"
  }
 },
 "nbformat": 4,
 "nbformat_minor": 2
}
