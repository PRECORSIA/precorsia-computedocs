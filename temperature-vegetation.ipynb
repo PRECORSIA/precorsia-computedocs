{
 "cells": [
  {
   "cell_type": "markdown",
   "metadata": {},
   "source": [
    "### Estudo de Correlação entre Temperatura e Cobertura Vegetal\n",
    "\n",
    "Este Jupyter Notebook faz parte do módulo de estudo de correlação do projeto PRECORSIA.  \n",
    "Ele se concentra na análise da correlação entre a temperatura e a cobertura vegetal.\n",
    "\n",
    "#### Como Utilizar Este Notebook\n",
    "\n",
    "1. Faça uma cópia deste notebook para o seu ambiente de desenvolvimento.\n",
    "\n",
    "2. Certifique-se de que você tem todas as dependências necessárias instaladas. Você pode fazê-lo executando o seguinte comando em seu ambiente:\n",
    "\n",
    "        `pip install numpy pandas matplotlib earthengine-api geemap --upgrade`\n",
    "\n",
    "3. Execute cada célula do notebook sequencialmente para realizar a análise. Certifique-se de ler e entender cada passo, e ajuste o código, conforme necessário, para atender aos seus requisitos específicos.\n",
    "\n",
    "4. Se você desejar contribuir com melhorias ou adicionar novas análises, siga as diretrizes no README do sub-módulo para contribuições.  \n",
    "Você pode criar um novo notebook ou fazer modificações neste, se necessário."
   ]
  },
  {
   "cell_type": "markdown",
   "metadata": {},
   "source": [
    "#### Sobre a autorização para utilizar os serviços Google Earth Engine\n",
    "\n",
    "Sempre que inicializar a aplicação, será solicitado acesso ao serviço GEE através da sua conta google pessoal.  \n",
    "Para prover acesso e utilizar a API, relize a autorização executando o código abaixo:\n",
    "```python\n",
    "import ee\n",
    "ee.Authenticate()\n",
    "ee.Initialize()\n",
    "```\n",
    "Você será direcionado(a) à uma página WEB, onde será requisitado permissões de acesso.  \n",
    "\n",
    "> Granting permission. This creates a web application definition controlled by your project provided above. After you click Generate Token, Google will ask for your permission to grant the application access to your data. See details in the step-by-step guide.\n",
    "\n",
    "> Expiry period. The granted permissions will expire in a week, after which you'll need to call ee.Authenticate() again.\n",
    "\n",
    "> Revoking permissions. You can view all applications connected to your account, and revoke permissions if needed, on https://myaccount.google.com/permissions. Search for \"Earth Engine Notebook Client\" to find the application defined by this page.\n",
    "\n",
    "> Technical details. The web application is defined by a development-mode \"OAuth2 Client\" on your specified project, which you can manage on the Google Cloud Console."
   ]
  },
  {
   "cell_type": "code",
   "execution_count": null,
   "metadata": {},
   "outputs": [],
   "source": [
    "# Importing GEE dependencies\n",
    "import geemap.core as geemap\n",
    "import ee\n",
    "\n",
    "# Importing analytical tools\n",
    "import matplotlib.pyplot as plt\n",
    "import numpy as np"
   ]
  },
  {
   "cell_type": "code",
   "execution_count": null,
   "metadata": {},
   "outputs": [],
   "source": [
    "# Execute only once per session\n",
    "ee.Initialize()"
   ]
  },
  {
   "cell_type": "code",
   "execution_count": null,
   "metadata": {},
   "outputs": [],
   "source": [
    "# LIMITS\n",
    "img_list_amount = 100\n",
    "time_round = 8 # 8"
   ]
  },
  {
   "cell_type": "code",
   "execution_count": null,
   "metadata": {},
   "outputs": [],
   "source": [
    "# Filter region and date to limit queries\n",
    "START = ee.Date('2023-01-01')\n",
    "END = START.advance(365, 'day')\n",
    "\n",
    "coords = [16.0569, 51.6608]\n",
    "region = ee.Geometry.Point(coords)\n",
    "\n",
    "filter = ee.Filter.And(\n",
    "    ee.Filter.bounds(region),\n",
    "    ee.Filter.date(START, END),\n",
    ")"
   ]
  },
  {
   "cell_type": "code",
   "execution_count": null,
   "metadata": {},
   "outputs": [],
   "source": [
    "# Get a DYNAMICWORLD/V1 dataset's image list\n",
    "DWV1_image_collection = ee.ImageCollection(\n",
    "    'GOOGLE/DYNAMICWORLD/V1').filter(filter)\n",
    "DWV1_image_coll_list = DWV1_image_collection.toList(img_list_amount)\n",
    "\n",
    "# Get the time_start and id propertie\n",
    "DWV1_image_time_list = DWV1_image_coll_list.map(lambda img: ee.Dictionary(\n",
    "    {'id': ee.Image(img).id(), 'time_start': ee.Image(img).get('system:time_start')})).getInfo()"
   ]
  },
  {
   "cell_type": "code",
   "execution_count": null,
   "metadata": {},
   "outputs": [],
   "source": [
    "# Get a JAXA/GCOM-C/L3/LAND/LST/V3 dataset's image list\n",
    "LSTV3_image_collection = ee.ImageCollection(\n",
    "    'JAXA/GCOM-C/L3/LAND/LST/V3').filter(filter)\n",
    "LSTV3_image_coll_list = LSTV3_image_collection.toList(img_list_amount)\n",
    "\n",
    "# Get the time_start and id propertie\n",
    "LSTV3_image_time_list = LSTV3_image_coll_list.map(lambda img: ee.Dictionary(\n",
    "    {'id': ee.Image(img).id(), 'time_start': ee.Image(img).get('system:time_start')})).getInfo()"
   ]
  },
  {
   "cell_type": "markdown",
   "metadata": {},
   "source": [
    "This algorithm is bad, it's not returning somenthing that i can work with.  \n",
    "`Change the logic, rebuid it from scratch.`"
   ]
  },
  {
   "cell_type": "code",
   "execution_count": null,
   "metadata": {},
   "outputs": [],
   "source": [
    "# Extracts all the common time_start in both arrays to get the list of matching times\n",
    "LSTV3_time_start_rounded = []\n",
    "for lstv3 in LSTV3_image_time_list:\n",
    "    rounded = np.round(lstv3['time_start'] // 10**time_round * 10**time_round, 0)\n",
    "    LSTV3_time_start_rounded.append(rounded)\n",
    "\n",
    "DWV1_time_start_rounded = []\n",
    "for dwv1 in DWV1_image_time_list:\n",
    "    rounded = np.round(dwv1['time_start'] // 10**time_round * 10**time_round, 0)\n",
    "    DWV1_time_start_rounded.append(rounded)\n",
    "\n",
    "merged_common_dates = np.intersect1d(LSTV3_time_start_rounded, DWV1_time_start_rounded)"
   ]
  },
  {
   "cell_type": "code",
   "execution_count": null,
   "metadata": {},
   "outputs": [],
   "source": [
    "# Extracts all common image IDs from both arrays to get the list of matching images\n",
    "LSTV3_common_ids = []\n",
    "for id in LSTV3_image_time_list:\n",
    "    rounded = np.round(id['time_start'] // 10**time_round * 10**time_round, 0)\n",
    "    if rounded in merged_common_dates and not rounded in [r['time_start_rounded'] for r in LSTV3_common_ids]:\n",
    "        LSTV3_common_ids.append({'id': id['id'], 'time_start_rounded': rounded})\n",
    "\n",
    "DWV1_common_ids = []\n",
    "for id in DWV1_image_time_list:\n",
    "    rounded = np.round(id['time_start'] // 10**time_round * 10**time_round, 0)\n",
    "    if rounded in merged_common_dates and not rounded in [r['time_start_rounded'] for r in DWV1_common_ids]:\n",
    "        DWV1_common_ids.append({'id': id['id'], 'time_start_rounded': rounded})"
   ]
  },
  {
   "cell_type": "markdown",
   "metadata": {},
   "source": [
    "`Do not need the image`"
   ]
  },
  {
   "cell_type": "code",
   "execution_count": null,
   "metadata": {},
   "outputs": [],
   "source": [
    "# # Gets an array of available images\n",
    "# LSTV3_images = []\n",
    "# for id in LSTV3_common_ids:\n",
    "#     image = ee.Image(LSTV3_image_collection.filter(ee.Filter.eq('system:index', id['id'])).first())\n",
    "#     LSTV3_images.append(image)\n",
    "\n",
    "# DWV1_images = []\n",
    "# for id in DWV1_common_ids:\n",
    "#     image = ee.Image(DWV1_image_collection.filter(ee.Filter.eq('system:index', id['id'])).first())\n",
    "#     DWV1_images.append(image)"
   ]
  },
  {
   "cell_type": "markdown",
   "metadata": {},
   "source": [
    "---\n",
    "### Reformulate the main image request logic "
   ]
  },
  {
   "cell_type": "code",
   "execution_count": null,
   "metadata": {},
   "outputs": [],
   "source": [
    "LSTV3_common_ids"
   ]
  },
  {
   "cell_type": "code",
   "execution_count": null,
   "metadata": {},
   "outputs": [],
   "source": [
    "# Make a projection to discover the scale in degrees.\n",
    "import io\n",
    "from PIL import Image\n",
    "proj = ee.Projection('EPSG:4326').atScale(100).getInfo()\n",
    "\n",
    "# Get scales out of the transform.\n",
    "scale_x = proj['transform'][0]\n",
    "scale_y = -proj['transform'][4]\n",
    "\n",
    "# Makes a request for the image\n",
    "request = {\n",
    "    'assetId': 'JAXA/GCOM-C/L3/LAND/LST/V3/20230103A',\n",
    "    'fileFormat': 'PNG',\n",
    "    'bandIds': ['LST_AVE'],\n",
    "    'grid': {\n",
    "        'dimensions': {\n",
    "            'width': 640,\n",
    "            'height': 640\n",
    "        },\n",
    "        'affineTransform': {\n",
    "            'scaleX': scale_x,\n",
    "            'shearX': 0,\n",
    "            'translateX': coords[0],\n",
    "            'shearY': 0,\n",
    "            'scaleY': scale_y,\n",
    "            'translateY': coords[1]\n",
    "        },\n",
    "        'crsCode': proj['crs'],\n",
    "    },\n",
    "    'visualizationOptions': {'ranges': [{'min': 11651, 'max': 16459}]},\n",
    "}\n",
    "\n",
    "image_png = ee.data.getPixels(request)\n",
    "# Do something with the image...\n",
    "\n",
    "# Convert the byte array to an image\n",
    "img = Image.open(io.BytesIO(image_png))\n",
    "\n",
    "# Convert the image to grayscale\n",
    "img = img.convert('L')\n",
    "\n",
    "# Convert the image to a matrix\n",
    "matrix = np.array(img)\n",
    "\n",
    "# Plots the image\n",
    "plt.figure(figsize=(12, 12))\n",
    "plt.imshow(matrix, cmap='plasma')\n",
    "plt.show()\n"
   ]
  },
  {
   "cell_type": "markdown",
   "metadata": {},
   "source": [
    "---\n",
    "### Add the image processing and data extraction"
   ]
  },
  {
   "cell_type": "markdown",
   "metadata": {},
   "source": [
    "---\n",
    "### Create the study by processing and visualizing the data"
   ]
  }
 ],
 "metadata": {
  "kernelspec": {
   "display_name": "Python 3",
   "language": "python",
   "name": "python3"
  },
  "language_info": {
   "codemirror_mode": {
    "name": "ipython",
    "version": 3
   },
   "file_extension": ".py",
   "mimetype": "text/x-python",
   "name": "python",
   "nbconvert_exporter": "python",
   "pygments_lexer": "ipython3",
   "version": "3.10.2"
  }
 },
 "nbformat": 4,
 "nbformat_minor": 2
}
