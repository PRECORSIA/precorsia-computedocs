{
 "cells": [
  {
   "cell_type": "markdown",
   "metadata": {},
   "source": [
    "### Estudo de Correlação: \n",
    "> Temperatura / Cobertura Vegetal\n",
    "\n",
    "Este Jupyter Notebook faz parte do módulo de estudo de correlação do projeto PRECORSIA, e concentra-se na análise da correlação entre a temperatura e a cobertura vegetal."
   ]
  },
  {
   "cell_type": "code",
   "execution_count": 17,
   "metadata": {},
   "outputs": [],
   "source": [
    "# Importing GEE dependencies\n",
    "from helpers.geeApi import PrecorsiaGee\n",
    "import ee\n",
    "\n",
    "# Importing image processing tools\n",
    "from helpers.imageCorrelator import ImageCorrelator\n",
    "from helpers.imageProcessor import ImageProcessor\n",
    "import matplotlib.pyplot as plt"
   ]
  },
  {
   "cell_type": "markdown",
   "metadata": {},
   "source": [
    "#### Image availability list"
   ]
  },
  {
   "cell_type": "markdown",
   "metadata": {},
   "source": [
    "Add dataset's configuration "
   ]
  },
  {
   "cell_type": "code",
   "execution_count": 18,
   "metadata": {},
   "outputs": [],
   "source": [
    "gds_one = PrecorsiaGee('GOOGLE/DYNAMICWORLD/V1', [0.00788292, 0.22374485])\n",
    "gds_two = PrecorsiaGee('JAXA/GCOM-C/L3/LAND/LST/V3', [10900, 16591])"
   ]
  },
  {
   "cell_type": "code",
   "execution_count": 19,
   "metadata": {},
   "outputs": [],
   "source": [
    "# ! Execute only once per session\n",
    "PrecorsiaGee.init()"
   ]
  },
  {
   "cell_type": "markdown",
   "metadata": {},
   "source": [
    "Configure the filter and get the list of images"
   ]
  },
  {
   "cell_type": "code",
   "execution_count": 20,
   "metadata": {},
   "outputs": [],
   "source": [
    "START = ee.Date('2020-01-01')\n",
    "END = START.advance(1400, 'day')\n",
    "geolocation = [16.0569, 51.6608]\n",
    "round_factor = 8"
   ]
  },
  {
   "cell_type": "code",
   "execution_count": 21,
   "metadata": {},
   "outputs": [],
   "source": [
    "gds_one_list = gds_one.list(geolocation, [START, END])\n",
    "gds_two_list = gds_two.list(geolocation, [START, END])\n",
    "gds_one_list, gds_two_list = PrecorsiaGee.correlate_dates(gds_one_list, gds_two_list, round_factor)"
   ]
  },
  {
   "cell_type": "markdown",
   "metadata": {},
   "source": [
    "#### Image requests and data acquisition"
   ]
  },
  {
   "cell_type": "markdown",
   "metadata": {},
   "source": [
    "commit to memory"
   ]
  },
  {
   "cell_type": "code",
   "execution_count": 22,
   "metadata": {},
   "outputs": [],
   "source": [
    "for id in gds_one_list:\n",
    "    gds_one_image = gds_one.image(id['id'], ['grass'], geolocation)\n",
    "    plt.imsave(f'./buffer/%s.png' % id['id'], gds_one_image, cmap='gray')"
   ]
  },
  {
   "cell_type": "code",
   "execution_count": 23,
   "metadata": {},
   "outputs": [],
   "source": [
    "for id in gds_two_list:\n",
    "    gds_two_image = gds_two.image(id['id'], ['LST_AVE'], geolocation)\n",
    "    plt.imsave(f'./buffer/%s.png' % id['id'], gds_two_image, cmap='gray')"
   ]
  },
  {
   "cell_type": "markdown",
   "metadata": {},
   "source": [
    "#### Processing and visualizing the data"
   ]
  },
  {
   "cell_type": "markdown",
   "metadata": {},
   "source": [
    "filter using zero counting"
   ]
  },
  {
   "cell_type": "code",
   "execution_count": 24,
   "metadata": {},
   "outputs": [],
   "source": [
    "# ! will delete from buffer\n",
    "process = ImageProcessor([gds_one_list, gds_two_list])\n",
    "[gds_one_lz, gds_two_lz] = process.zero_counting_filter()"
   ]
  },
  {
   "cell_type": "markdown",
   "metadata": {},
   "source": [
    "Group by date and plot a correlation graph"
   ]
  },
  {
   "cell_type": "code",
   "execution_count": null,
   "metadata": {},
   "outputs": [],
   "source": [
    "corr_list = PrecorsiaGee.connected_correlation(gds_one_lz, gds_two_lz, round_factor)"
   ]
  },
  {
   "cell_type": "code",
   "execution_count": 35,
   "metadata": {},
   "outputs": [
    {
     "data": {
      "image/png": "[encoded data removed]",
      "text/plain": [
       "<Figure size 432x288 with 2 Axes>"
      ]
     },
     "metadata": {
      "needs_background": "light"
     },
     "output_type": "display_data"
    }
   ],
   "source": [
    "corr_study = ImageCorrelator(corr_list)\n",
    "corr_avr = corr_study.calculate_correlation()\n",
    "ImageCorrelator.plot(corr_avr)"
   ]
  }
 ],
 "metadata": {
  "kernelspec": {
   "display_name": "Python 3",
   "language": "python",
   "name": "python3"
  },
  "language_info": {
   "codemirror_mode": {
    "name": "ipython",
    "version": 3
   },
   "file_extension": ".py",
   "mimetype": "text/x-python",
   "name": "python",
   "nbconvert_exporter": "python",
   "pygments_lexer": "ipython3",
   "version": "3.10.2"
  }
 },
 "nbformat": 4,
 "nbformat_minor": 2
}
