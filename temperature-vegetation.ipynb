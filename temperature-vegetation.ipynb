{
 "cells": [
  {
   "cell_type": "markdown",
   "metadata": {},
   "source": [
    "### Estudo de Correlação entre Temperatura e Cobertura Vegetal\n",
    "\n",
    "Este Jupyter Notebook faz parte do módulo de estudo de correlação do projeto PRECORSIA.  \n",
    "Ele se concentra na análise da correlação entre a temperatura e a cobertura vegetal.\n",
    "\n",
    "#### Como Utilizar Este Notebook\n",
    "\n",
    "1. Faça uma cópia deste notebook para o seu ambiente de desenvolvimento.\n",
    "\n",
    "2. Certifique-se de que você tem todas as dependências necessárias instaladas. Você pode fazê-lo executando o seguinte comando em seu ambiente:\n",
    "\n",
    "        `pip install numpy matplotlib earthengine-api geemap Pillow --upgrade`\n",
    "\n",
    "3. Execute cada célula do notebook sequencialmente para realizar a análise. Certifique-se de ler e entender cada passo, e ajuste o código, conforme necessário, para atender aos seus requisitos específicos.\n",
    "\n",
    "4. Se você desejar contribuir com melhorias ou adicionar novas análises, siga as diretrizes no README do sub-módulo para contribuições.  \n",
    "Você pode criar um novo notebook ou fazer modificações neste, se necessário."
   ]
  },
  {
   "cell_type": "markdown",
   "metadata": {},
   "source": [
    "#### Sobre a autorização para utilizar os serviços Google Earth Engine\n",
    "\n",
    "Sempre que inicializar a aplicação, será solicitado acesso ao serviço GEE através da sua conta google pessoal.  \n",
    "Para prover acesso e utilizar a API, relize a autorização executando o código abaixo:\n",
    "```python\n",
    "import ee\n",
    "ee.Authenticate()\n",
    "ee.Initialize()\n",
    "```\n",
    "Você será direcionado(a) à uma página WEB, onde será requisitado permissões de acesso.  \n",
    "\n",
    "> Granting permission. This creates a web application definition controlled by your project provided above. After you click Generate Token, Google will ask for your permission to grant the application access to your data. See details in the step-by-step guide.\n",
    "\n",
    "> Expiry period. The granted permissions will expire in a week, after which you'll need to call ee.Authenticate() again.\n",
    "\n",
    "> Revoking permissions. You can view all applications connected to your account, and revoke permissions if needed, on https://myaccount.google.com/permissions. Search for \"Earth Engine Notebook Client\" to find the application defined by this page.\n",
    "\n",
    "> Technical details. The web application is defined by a development-mode \"OAuth2 Client\" on your specified project, which you can manage on the Google Cloud Console."
   ]
  },
  {
   "cell_type": "code",
   "execution_count": 1,
   "metadata": {},
   "outputs": [],
   "source": [
    "# Importing GEE dependencies\n",
    "from helpers.geeApi import PrecorsiaGee\n",
    "import ee\n",
    "\n",
    "# Importing analytical tools\n",
    "import numpy as np\n",
    "import os\n",
    "\n",
    "# Importing image processing tools\n",
    "from helpers.imageProcessor import ImageProcessor\n",
    "import matplotlib.pyplot as plt\n",
    "from PIL import Image"
   ]
  },
  {
   "cell_type": "markdown",
   "metadata": {},
   "source": [
    "#### Image availability list"
   ]
  },
  {
   "cell_type": "markdown",
   "metadata": {},
   "source": [
    "Add dataset's configuration "
   ]
  },
  {
   "cell_type": "code",
   "execution_count": 2,
   "metadata": {},
   "outputs": [],
   "source": [
    "dwv1 = PrecorsiaGee('GOOGLE/DYNAMICWORLD/V1', [0.00788292, 0.22374485])\n",
    "lstv3 = PrecorsiaGee('JAXA/GCOM-C/L3/LAND/LST/V3', [10900, 16591])"
   ]
  },
  {
   "cell_type": "code",
   "execution_count": 3,
   "metadata": {},
   "outputs": [],
   "source": [
    "# Execute only once per session\n",
    "PrecorsiaGee.init()"
   ]
  },
  {
   "cell_type": "markdown",
   "metadata": {},
   "source": [
    "Configure the filter and get the list of images"
   ]
  },
  {
   "cell_type": "code",
   "execution_count": 4,
   "metadata": {},
   "outputs": [],
   "source": [
    "START = ee.Date('2023-01-01')\n",
    "END = START.advance(60, 'day')\n",
    "geolocation = [16.0569, 51.6608]"
   ]
  },
  {
   "cell_type": "code",
   "execution_count": 5,
   "metadata": {},
   "outputs": [],
   "source": [
    "dwv1_list = dwv1.list(geolocation, [START, END])\n",
    "lstv3_list = lstv3.list(geolocation, [START, END])\n",
    "\n",
    "dwv1_list, lstv3_list = PrecorsiaGee.correlate_dates(dwv1_list, lstv3_list, 8)"
   ]
  },
  {
   "cell_type": "markdown",
   "metadata": {},
   "source": [
    "#### Image requests and data acquisition"
   ]
  },
  {
   "cell_type": "markdown",
   "metadata": {},
   "source": [
    "commit to memory"
   ]
  },
  {
   "cell_type": "code",
   "execution_count": 6,
   "metadata": {},
   "outputs": [],
   "source": [
    "for id in dwv1_list:\n",
    "    dwv1_image = dwv1.image(id['id'], ['grass'], geolocation)\n",
    "    plt.imsave(f'./buffer/%s.png' % id['id'], dwv1_image, cmap='gray')"
   ]
  },
  {
   "cell_type": "code",
   "execution_count": 7,
   "metadata": {},
   "outputs": [],
   "source": [
    "for id in lstv3_list:\n",
    "    lstv3_image = lstv3.image(id['id'], ['LST_AVE'], geolocation)\n",
    "    plt.imsave(f'./buffer/%s.png' % id['id'], lstv3_image, cmap='gray')"
   ]
  },
  {
   "cell_type": "markdown",
   "metadata": {},
   "source": [
    "filter using zero counting"
   ]
  },
  {
   "cell_type": "code",
   "execution_count": 8,
   "metadata": {},
   "outputs": [],
   "source": [
    "process = ImageProcessor([dwv1_list, lstv3_list])\n",
    "process.zero_counting_filter() # will delete from buffer"
   ]
  },
  {
   "cell_type": "markdown",
   "metadata": {},
   "source": [
    "#### Processing and visualizing the data"
   ]
  },
  {
   "cell_type": "code",
   "execution_count": null,
   "metadata": {},
   "outputs": [],
   "source": []
  }
 ],
 "metadata": {
  "kernelspec": {
   "display_name": "Python 3",
   "language": "python",
   "name": "python3"
  },
  "language_info": {
   "codemirror_mode": {
    "name": "ipython",
    "version": 3
   },
   "file_extension": ".py",
   "mimetype": "text/x-python",
   "name": "python",
   "nbconvert_exporter": "python",
   "pygments_lexer": "ipython3",
   "version": "3.10.2"
  }
 },
 "nbformat": 4,
 "nbformat_minor": 2
}
