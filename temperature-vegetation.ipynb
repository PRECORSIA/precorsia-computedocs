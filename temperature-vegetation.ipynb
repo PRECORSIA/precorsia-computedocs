{
 "cells": [
  {
   "cell_type": "markdown",
   "metadata": {},
   "source": [
    "### Estudo de Correlação entre Temperatura e Cobertura Vegetal\n",
    "\n",
    "Este Jupyter Notebook faz parte do módulo de estudo de correlação do projeto PRECORSIA.  \n",
    "Ele se concentra na análise da correlação entre a temperatura e a cobertura vegetal.\n",
    "\n",
    "#### Como Utilizar Este Notebook\n",
    "\n",
    "1. Faça uma cópia deste notebook para o seu ambiente de desenvolvimento.\n",
    "\n",
    "2. Certifique-se de que você tem todas as dependências necessárias instaladas. Você pode fazê-lo executando o seguinte comando em seu ambiente:\n",
    "\n",
    "        `pip install numpy pandas matplotlib earthengine-api geemap --upgrade`\n",
    "\n",
    "3. Execute cada célula do notebook sequencialmente para realizar a análise. Certifique-se de ler e entender cada passo, e ajuste o código, conforme necessário, para atender aos seus requisitos específicos.\n",
    "\n",
    "4. Se você desejar contribuir com melhorias ou adicionar novas análises, siga as diretrizes no README do sub-módulo para contribuições.  \n",
    "Você pode criar um novo notebook ou fazer modificações neste, se necessário."
   ]
  },
  {
   "cell_type": "markdown",
   "metadata": {},
   "source": [
    "#### Sobre a autorização para utilizar os serviços Google Earth Engine\n",
    "\n",
    "Sempre que inicializar a aplicação, será solicitado acesso ao serviço GEE através da sua conta google pessoal.  \n",
    "Para prover acesso e utilizar a API, relize a autorização executando o código abaixo:\n",
    "```python\n",
    "import ee\n",
    "ee.Authenticate()\n",
    "ee.Initialize()\n",
    "```\n",
    "Você será direcionado(a) à uma página WEB, onde será requisitado permissões de acesso.  \n",
    "\n",
    "> Granting permission. This creates a web application definition controlled by your project provided above. After you click Generate Token, Google will ask for your permission to grant the application access to your data. See details in the step-by-step guide.\n",
    "\n",
    "> Expiry period. The granted permissions will expire in a week, after which you'll need to call ee.Authenticate() again.\n",
    "\n",
    "> Revoking permissions. You can view all applications connected to your account, and revoke permissions if needed, on https://myaccount.google.com/permissions. Search for \"Earth Engine Notebook Client\" to find the application defined by this page.\n",
    "\n",
    "> Technical details. The web application is defined by a development-mode \"OAuth2 Client\" on your specified project, which you can manage on the Google Cloud Console."
   ]
  },
  {
   "cell_type": "code",
   "execution_count": null,
   "metadata": {},
   "outputs": [],
   "source": [
    "# Importing all dependencies\n",
    "import ee\n",
    "import geemap.core as geemap"
   ]
  },
  {
   "cell_type": "code",
   "execution_count": null,
   "metadata": {},
   "outputs": [],
   "source": [
    "# Executa somente uma vez por sessão\n",
    "ee.Initialize()"
   ]
  },
  {
   "cell_type": "code",
   "execution_count": null,
   "metadata": {},
   "outputs": [],
   "source": [
    "# Célula de testes, validação de inicialização\n",
    "dataset = ee.Image('COPERNICUS/Landcover/100m/Proba-V-C3/Global/2019').select(\n",
    "    'discrete_classification'\n",
    ")\n",
    "\n",
    "m = geemap.Map()\n",
    "m.set_center(-88.6, 26.4, 1)\n",
    "m.add_layer(dataset, {}, 'Land Cover')\n",
    "m"
   ]
  }
 ],
 "metadata": {
  "kernelspec": {
   "display_name": "Python 3",
   "language": "python",
   "name": "python3"
  },
  "language_info": {
   "codemirror_mode": {
    "name": "ipython",
    "version": 3
   },
   "file_extension": ".py",
   "mimetype": "text/x-python",
   "name": "python",
   "nbconvert_exporter": "python",
   "pygments_lexer": "ipython3",
   "version": "3.10.2"
  }
 },
 "nbformat": 4,
 "nbformat_minor": 2
}
